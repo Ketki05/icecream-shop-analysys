{
 "cells": [
  {
   "cell_type": "code",
   "execution_count": 1,
   "metadata": {},
   "outputs": [],
   "source": [
    "import numpy as np\n",
    "import pandas as pd\n",
    "import matplotlib.pyplot as plt\n",
    "import seaborn as sns"
   ]
  },
  {
   "cell_type": "code",
   "execution_count": 2,
   "metadata": {},
   "outputs": [],
   "source": [
    "a=pd.read_csv(\"Region.csv\")"
   ]
  },
  {
   "cell_type": "code",
   "execution_count": 3,
   "metadata": {},
   "outputs": [],
   "source": [
    "b=pd.read_csv(\"StoreDetails.csv\")"
   ]
  },
  {
   "cell_type": "code",
   "execution_count": 4,
   "metadata": {},
   "outputs": [
    {
     "name": "stdout",
     "output_type": "stream",
     "text": [
      "      Store Region        Date  Temperature  Unemployment\n",
      "0         1      A   5/02/2010        42.31         8.106\n",
      "1         1      A  12/02/2010        38.51         8.106\n",
      "2         1      A  19/02/2010        39.93         8.106\n",
      "3         1      A  26/02/2010        46.63         8.106\n",
      "4         1      A   5/03/2010        46.50         8.106\n",
      "5         1      A  12/03/2010        57.79         8.106\n",
      "6         1      A  19/03/2010        54.58         8.106\n",
      "7         1      A  26/03/2010        51.45         8.106\n",
      "8         1      A   2/04/2010        62.27         7.808\n",
      "9         1      A   9/04/2010        65.86         7.808\n",
      "10        1      A  16/04/2010        66.32         7.808\n",
      "11        1      A  23/04/2010        64.84         7.808\n",
      "12        1      A  30/04/2010        67.41         7.808\n",
      "13        1      A   7/05/2010        72.55         7.808\n",
      "14        1      A  14/05/2010        74.78         7.808\n",
      "15        1      A  21/05/2010        76.44         7.808\n",
      "16        1      A  28/05/2010        80.44         7.808\n",
      "17        1      A   4/06/2010        80.69         7.808\n",
      "18        1      A  11/06/2010        80.43         7.808\n",
      "19        1      A  18/06/2010        84.11         7.808\n",
      "20        1      A  25/06/2010        84.34         7.808\n",
      "21        1      A   2/07/2010        80.91         7.787\n",
      "22        1      A   9/07/2010        80.48         7.787\n",
      "23        1      A  16/07/2010        83.15         7.787\n",
      "24        1      A  23/07/2010        83.36         7.787\n",
      "25        1      A  30/07/2010        81.84         7.787\n",
      "26        1      A   6/08/2010        87.16         7.787\n",
      "27        1      A  13/08/2010        87.00         7.787\n",
      "28        1      A  20/08/2010        86.65         7.787\n",
      "29        1      A  27/08/2010        85.22         7.787\n",
      "...     ...    ...         ...          ...           ...\n",
      "8160     45      E   4/01/2013        32.87         8.625\n",
      "8161     45      E  11/01/2013        38.78         8.625\n",
      "8162     45      E  18/01/2013        41.45         8.625\n",
      "8163     45      E  25/01/2013        26.49         8.625\n",
      "8164     45      E   1/02/2013        34.92         8.625\n",
      "8165     45      E   8/02/2013        28.99         8.625\n",
      "8166     45      E  15/02/2013        35.87         8.625\n",
      "8167     45      E  22/02/2013        31.48         8.625\n",
      "8168     45      E   1/03/2013        39.72         8.625\n",
      "8169     45      E   8/03/2013        36.13         8.625\n",
      "8170     45      E  15/03/2013        42.81         8.625\n",
      "8171     45      E  22/03/2013        36.55         8.625\n",
      "8172     45      E  29/03/2013        40.68         8.625\n",
      "8173     45      E   5/04/2013        43.94         8.335\n",
      "8174     45      E  12/04/2013        57.39         8.335\n",
      "8175     45      E  19/04/2013        56.27         8.335\n",
      "8176     45      E  26/04/2013        50.64         8.335\n",
      "8177     45      E   3/05/2013        56.07           NaN\n",
      "8178     45      E  10/05/2013        58.86           NaN\n",
      "8179     45      E  17/05/2013        60.59           NaN\n",
      "8180     45      E  24/05/2013        67.11           NaN\n",
      "8181     45      E  31/05/2013        65.88           NaN\n",
      "8182     45      E   7/06/2013        70.71           NaN\n",
      "8183     45      E  14/06/2013        70.01           NaN\n",
      "8184     45      E  21/06/2013        70.13           NaN\n",
      "8185     45      E  28/06/2013        76.05           NaN\n",
      "8186     45      E   5/07/2013        77.50           NaN\n",
      "8187     45      E  12/07/2013        79.37           NaN\n",
      "8188     45      E  19/07/2013        82.84           NaN\n",
      "8189     45      E  26/07/2013        76.06           NaN\n",
      "\n",
      "[8190 rows x 5 columns]\n"
     ]
    }
   ],
   "source": [
    "merged=a.merge(b,on=\"Store\")\n",
    "print(merged)"
   ]
  },
  {
   "cell_type": "code",
   "execution_count": 5,
   "metadata": {},
   "outputs": [],
   "source": [
    "c=pd.read_csv(\"Weekly-Sales.csv\")"
   ]
  },
  {
   "cell_type": "code",
   "execution_count": 12,
   "metadata": {},
   "outputs": [
    {
     "name": "stdout",
     "output_type": "stream",
     "text": [
      "      Store Region        Date  Temperature  Unemployment  Weekly_Sales\n",
      "0         1      A   5/02/2010        42.31         8.106      24924.50\n",
      "1         1      A  12/02/2010        38.51         8.106      46039.49\n",
      "2         1      A  19/02/2010        39.93         8.106      41595.55\n",
      "3         1      A  26/02/2010        46.63         8.106      19403.54\n",
      "4         1      A   5/03/2010        46.50         8.106      21827.90\n",
      "5         1      A  12/03/2010        57.79         8.106      21043.39\n",
      "6         1      A  19/03/2010        54.58         8.106      22136.64\n",
      "7         1      A  26/03/2010        51.45         8.106      26229.21\n",
      "8         1      A   2/04/2010        62.27         7.808      57258.43\n",
      "9         1      A   9/04/2010        65.86         7.808      42960.91\n",
      "10        1      A  16/04/2010        66.32         7.808      17596.96\n",
      "11        1      A  23/04/2010        64.84         7.808      16145.35\n",
      "12        1      A  30/04/2010        67.41         7.808      16555.11\n",
      "13        1      A   7/05/2010        72.55         7.808      17413.94\n",
      "14        1      A  14/05/2010        74.78         7.808      18926.74\n",
      "15        1      A  21/05/2010        76.44         7.808      14773.04\n",
      "16        1      A  28/05/2010        80.44         7.808      15580.43\n",
      "17        1      A   4/06/2010        80.69         7.808      17558.09\n",
      "18        1      A  11/06/2010        80.43         7.808      16637.62\n",
      "19        1      A  18/06/2010        84.11         7.808      16216.27\n",
      "20        1      A  25/06/2010        84.34         7.808      16328.72\n",
      "21        1      A   2/07/2010        80.91         7.787      16333.14\n",
      "22        1      A   9/07/2010        80.48         7.787      17688.76\n",
      "23        1      A  16/07/2010        83.15         7.787      17150.84\n",
      "24        1      A  23/07/2010        83.36         7.787      15360.45\n",
      "25        1      A  30/07/2010        81.84         7.787      15381.82\n",
      "26        1      A   6/08/2010        87.16         7.787      17508.41\n",
      "27        1      A  13/08/2010        87.00         7.787      15536.40\n",
      "28        1      A  20/08/2010        86.65         7.787      15740.13\n",
      "29        1      A  27/08/2010        85.22         7.787      15793.87\n",
      "...     ...    ...         ...          ...           ...           ...\n",
      "6405     45      E   6/04/2012        49.73         8.567      68621.57\n",
      "6406     45      E  13/04/2012        51.83         8.567      36715.43\n",
      "6407     45      E  20/04/2012        63.13         8.567      11917.68\n",
      "6408     45      E  27/04/2012        53.20         8.567      12040.92\n",
      "6409     45      E   4/05/2012        55.21         8.567      12361.24\n",
      "6410     45      E  11/05/2012        61.24         8.567      11259.35\n",
      "6411     45      E  18/05/2012        66.30         8.567      12413.93\n",
      "6412     45      E  25/05/2012        67.21         8.567      12487.46\n",
      "6413     45      E   1/06/2012        74.48         8.567      10629.59\n",
      "6414     45      E   8/06/2012        64.30         8.567      12851.96\n",
      "6415     45      E  15/06/2012        71.93         8.567      11931.65\n",
      "6416     45      E  22/06/2012        74.22         8.567      11298.94\n",
      "6417     45      E  29/06/2012        75.22         8.567      11001.03\n",
      "6418     45      E   6/07/2012        82.99         8.684      11281.21\n",
      "6419     45      E  13/07/2012        79.97         8.684      10363.00\n",
      "6420     45      E  20/07/2012        78.89         8.684      11000.62\n",
      "6421     45      E  27/07/2012        77.20         8.684      11628.65\n",
      "6422     45      E   3/08/2012        76.58         8.684      11285.10\n",
      "6423     45      E  10/08/2012        78.65         8.684      10985.30\n",
      "6424     45      E  17/08/2012        75.71         8.684      11091.88\n",
      "6425     45      E  24/08/2012        72.62         8.684      11468.84\n",
      "6426     45      E  31/08/2012        75.09         8.684      10898.15\n",
      "6427     45      E   7/09/2012        75.70         8.684      11797.22\n",
      "6428     45      E  14/09/2012        67.87         8.684      12747.42\n",
      "6429     45      E  21/09/2012        65.32         8.684      13114.39\n",
      "6430     45      E  28/09/2012        64.88         8.684      13153.22\n",
      "6431     45      E   5/10/2012        64.89         8.667      15309.43\n",
      "6432     45      E  12/10/2012        54.47         8.667      16109.15\n",
      "6433     45      E  19/10/2012        56.47         8.667      19128.81\n",
      "6434     45      E  26/10/2012        58.85         8.667      27117.16\n",
      "\n",
      "[6435 rows x 6 columns]\n"
     ]
    }
   ],
   "source": [
    "merge1=merged.merge(c,on=['Store','Date'])\n",
    "print(merge1)"
   ]
  },
  {
   "cell_type": "code",
   "execution_count": 20,
   "metadata": {},
   "outputs": [
    {
     "name": "stdout",
     "output_type": "stream",
     "text": [
      "      Store Region        Date  Temperature  Unemployment  Weekly_Sales  Year\n",
      "0         1      A   5/02/2010        42.31         8.106      24924.50  2010\n",
      "1         1      A  12/02/2010        38.51         8.106      46039.49  2010\n",
      "2         1      A  19/02/2010        39.93         8.106      41595.55  2010\n",
      "3         1      A  26/02/2010        46.63         8.106      19403.54  2010\n",
      "4         1      A   5/03/2010        46.50         8.106      21827.90  2010\n",
      "5         1      A  12/03/2010        57.79         8.106      21043.39  2010\n",
      "6         1      A  19/03/2010        54.58         8.106      22136.64  2010\n",
      "7         1      A  26/03/2010        51.45         8.106      26229.21  2010\n",
      "8         1      A   2/04/2010        62.27         7.808      57258.43  2010\n",
      "9         1      A   9/04/2010        65.86         7.808      42960.91  2010\n",
      "10        1      A  16/04/2010        66.32         7.808      17596.96  2010\n",
      "11        1      A  23/04/2010        64.84         7.808      16145.35  2010\n",
      "12        1      A  30/04/2010        67.41         7.808      16555.11  2010\n",
      "13        1      A   7/05/2010        72.55         7.808      17413.94  2010\n",
      "14        1      A  14/05/2010        74.78         7.808      18926.74  2010\n",
      "15        1      A  21/05/2010        76.44         7.808      14773.04  2010\n",
      "16        1      A  28/05/2010        80.44         7.808      15580.43  2010\n",
      "17        1      A   4/06/2010        80.69         7.808      17558.09  2010\n",
      "18        1      A  11/06/2010        80.43         7.808      16637.62  2010\n",
      "19        1      A  18/06/2010        84.11         7.808      16216.27  2010\n",
      "20        1      A  25/06/2010        84.34         7.808      16328.72  2010\n",
      "21        1      A   2/07/2010        80.91         7.787      16333.14  2010\n",
      "22        1      A   9/07/2010        80.48         7.787      17688.76  2010\n",
      "23        1      A  16/07/2010        83.15         7.787      17150.84  2010\n",
      "24        1      A  23/07/2010        83.36         7.787      15360.45  2010\n",
      "25        1      A  30/07/2010        81.84         7.787      15381.82  2010\n",
      "26        1      A   6/08/2010        87.16         7.787      17508.41  2010\n",
      "27        1      A  13/08/2010        87.00         7.787      15536.40  2010\n",
      "28        1      A  20/08/2010        86.65         7.787      15740.13  2010\n",
      "29        1      A  27/08/2010        85.22         7.787      15793.87  2010\n",
      "...     ...    ...         ...          ...           ...           ...   ...\n",
      "6405     45      E   6/04/2012        49.73         8.567      68621.57  2012\n",
      "6406     45      E  13/04/2012        51.83         8.567      36715.43  2012\n",
      "6407     45      E  20/04/2012        63.13         8.567      11917.68  2012\n",
      "6408     45      E  27/04/2012        53.20         8.567      12040.92  2012\n",
      "6409     45      E   4/05/2012        55.21         8.567      12361.24  2012\n",
      "6410     45      E  11/05/2012        61.24         8.567      11259.35  2012\n",
      "6411     45      E  18/05/2012        66.30         8.567      12413.93  2012\n",
      "6412     45      E  25/05/2012        67.21         8.567      12487.46  2012\n",
      "6413     45      E   1/06/2012        74.48         8.567      10629.59  2012\n",
      "6414     45      E   8/06/2012        64.30         8.567      12851.96  2012\n",
      "6415     45      E  15/06/2012        71.93         8.567      11931.65  2012\n",
      "6416     45      E  22/06/2012        74.22         8.567      11298.94  2012\n",
      "6417     45      E  29/06/2012        75.22         8.567      11001.03  2012\n",
      "6418     45      E   6/07/2012        82.99         8.684      11281.21  2012\n",
      "6419     45      E  13/07/2012        79.97         8.684      10363.00  2012\n",
      "6420     45      E  20/07/2012        78.89         8.684      11000.62  2012\n",
      "6421     45      E  27/07/2012        77.20         8.684      11628.65  2012\n",
      "6422     45      E   3/08/2012        76.58         8.684      11285.10  2012\n",
      "6423     45      E  10/08/2012        78.65         8.684      10985.30  2012\n",
      "6424     45      E  17/08/2012        75.71         8.684      11091.88  2012\n",
      "6425     45      E  24/08/2012        72.62         8.684      11468.84  2012\n",
      "6426     45      E  31/08/2012        75.09         8.684      10898.15  2012\n",
      "6427     45      E   7/09/2012        75.70         8.684      11797.22  2012\n",
      "6428     45      E  14/09/2012        67.87         8.684      12747.42  2012\n",
      "6429     45      E  21/09/2012        65.32         8.684      13114.39  2012\n",
      "6430     45      E  28/09/2012        64.88         8.684      13153.22  2012\n",
      "6431     45      E   5/10/2012        64.89         8.667      15309.43  2012\n",
      "6432     45      E  12/10/2012        54.47         8.667      16109.15  2012\n",
      "6433     45      E  19/10/2012        56.47         8.667      19128.81  2012\n",
      "6434     45      E  26/10/2012        58.85         8.667      27117.16  2012\n",
      "\n",
      "[6435 rows x 7 columns]\n"
     ]
    }
   ],
   "source": [
    "l1=[]\n",
    "a=[]\n",
    "for i in merge1['Date']:\n",
    "    #print(i)\n",
    "    a=i.split(\"/\")\n",
    "    l1.append(a[2])\n",
    "merge1['Year']=l1\n",
    "print(merge1)"
   ]
  },
  {
   "cell_type": "code",
   "execution_count": 27,
   "metadata": {},
   "outputs": [
    {
     "data": {
      "text/plain": [
       "<BarContainer object of 6435 artists>"
      ]
     },
     "execution_count": 27,
     "metadata": {},
     "output_type": "execute_result"
    },
    {
     "data": {
      "image/png": "[encoded data removed]",
      "text/plain": [
       "<Figure size 432x288 with 1 Axes>"
      ]
     },
     "metadata": {
      "needs_background": "light"
     },
     "output_type": "display_data"
    }
   ],
   "source": [
    "cf=merge1['Year'].tolist()\n",
    "pf=merge1['Weekly_Sales'].tolist()\n",
    "plt.bar(cf,pf)"
   ]
  },
  {
   "cell_type": "code",
   "execution_count": 29,
   "metadata": {},
   "outputs": [
    {
     "data": {
      "text/plain": [
       "<BarContainer object of 6435 artists>"
      ]
     },
     "execution_count": 29,
     "metadata": {},
     "output_type": "execute_result"
    },
    {
     "data": {
      "image/png": "[encoded data removed]",
      "text/plain": [
       "<Figure size 432x288 with 1 Axes>"
      ]
     },
     "metadata": {
      "needs_background": "light"
     },
     "output_type": "display_data"
    }
   ],
   "source": [
    "cf=merge1['Store'].tolist()\n",
    "pf=merge1['Weekly_Sales'].tolist()\n",
    "plt.bar(cf,pf)"
   ]
  },
  {
   "cell_type": "code",
   "execution_count": 34,
   "metadata": {},
   "outputs": [
    {
     "data": {
      "text/plain": [
       "<BarContainer object of 6435 artists>"
      ]
     },
     "execution_count": 34,
     "metadata": {},
     "output_type": "execute_result"
    },
    {
     "data": {
      "image/png": "[encoded data removed]",
      "text/plain": [
       "<Figure size 432x288 with 1 Axes>"
      ]
     },
     "metadata": {
      "needs_background": "light"
     },
     "output_type": "display_data"
    }
   ],
   "source": [
    "cf=merge1['Temperature'].tolist()\n",
    "pf=merge1['Unemployment'].tolist()\n",
    "plt.bar(cf,pf)"
   ]
  },
  {
   "cell_type": "code",
   "execution_count": 46,
   "metadata": {},
   "outputs": [
    {
     "data": {
      "text/plain": [
       "Text(0, 0.5, 'Weekly sales')"
      ]
     },
     "execution_count": 46,
     "metadata": {},
     "output_type": "execute_result"
    },
    {
     "data": {
      "image/png": "[encoded data removed]",
      "text/plain": [
       "<Figure size 432x288 with 2 Axes>"
      ]
     },
     "metadata": {
      "needs_background": "light"
     },
     "output_type": "display_data"
    }
   ],
   "source": [
    "fig=plt.figure()\n",
    "ax1=fig.add_subplot(5,1,1)\n",
    "plt.title(\"Sales according to temperature\")\n",
    "ax1=plt.bar(merge1['Temperature'],merge1['Weekly_Sales'])\n",
    "ax2=fig.add_subplot(4,1,2)\n",
    "plt.title(\"sales according to unemployment\")\n",
    "ax2=plt.bar(merge1['Unemployment'],merge1['Weekly_Sales'])\n",
    "plt.ylabel(\"Weekly sales\")"
   ]
  },
  {
   "cell_type": "code",
   "execution_count": 36,
   "metadata": {},
   "outputs": [
    {
     "data": {
      "text/plain": [
       "<BarContainer object of 6435 artists>"
      ]
     },
     "execution_count": 36,
     "metadata": {},
     "output_type": "execute_result"
    },
    {
     "data": {
      "image/png": "[encoded data removed]",
      "text/plain": [
       "<Figure size 432x288 with 1 Axes>"
      ]
     },
     "metadata": {
      "needs_background": "light"
     },
     "output_type": "display_data"
    }
   ],
   "source": [
    "cf=merge1['Weekly_Sales'].tolist()\n",
    "pf=merge1['Region'].tolist()\n",
    "plt.bar(pf,cf)"
   ]
  },
  {
   "cell_type": "code",
   "execution_count": null,
   "metadata": {},
   "outputs": [],
   "source": []
  }
 ],
 "metadata": {
  "kernelspec": {
   "display_name": "Python 3",
   "language": "python",
   "name": "python3"
  },
  "language_info": {
   "codemirror_mode": {
    "name": "ipython",
    "version": 3
   },
   "file_extension": ".py",
   "mimetype": "text/x-python",
   "name": "python",
   "nbconvert_exporter": "python",
   "pygments_lexer": "ipython3",
   "version": "3.7.3"
  }
 },
 "nbformat": 4,
 "nbformat_minor": 2
}
